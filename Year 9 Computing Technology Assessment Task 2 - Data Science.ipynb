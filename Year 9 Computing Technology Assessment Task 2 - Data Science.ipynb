{
 "cells": [
  {
   "cell_type": "markdown",
   "metadata": {},
   "source": [
    "# Year 9 Computing Technology Assessment Task 2 - Data Science"
   ]
  },
  {
   "cell_type": "markdown",
   "metadata": {},
   "source": [
    "## By Sebastian Tam - 9CT1B"
   ]
  },
  {
   "cell_type": "markdown",
   "metadata": {},
   "source": [
    "### Identifying and Defining"
   ]
  },
  {
   "cell_type": "markdown",
   "metadata": {},
   "source": [
    "#### Data Scenario"
   ]
  },
  {
   "cell_type": "markdown",
   "metadata": {},
   "source": [
    "**Data:** Flight delays for America in January.\\\n",
    "**Goal:** To find why flights were delayed in America in January, 2019.\\\n",
    "**Source:** https://www.kaggle.com/datasets/threnjen/2019-airline-delays-and-cancellations?resource=download&select=full_data_flightdelay.csv\\\n",
    "**Access:** Publicly accessible on Kaggle.\\\n",
    "**Access Method:** .csv"
   ]
  },
  {
   "cell_type": "markdown",
   "metadata": {},
   "source": [
    "### Functional Requirements"
   ]
  },
  {
   "cell_type": "markdown",
   "metadata": {},
   "source": [
    "* **Data Loading** \n",
    "    * **Description:** The data needs to be able to load certain types of data.\n",
    "    * **Input:** The user needs to import the dataset for analysis.\n",
    "    * **Output:** The user will be able to see the results.\n",
    "\n",
    "* **Data Cleaning** \n",
    "    * **Description:** The data needs to be able to be filtered.\n",
    "    * **Input:** The user will be able to see the filtered data.\n",
    "    * **Output:** The user will be able to see the results from the specific catergory that they filtered.\n",
    "\n",
    "* **Data Analysis** \n",
    "    * **Description:** The data needs to have some statistical data.\n",
    "    * **Input:** The user will be able to use different commands like medians.\n",
    "    * **Output:** The user will be able to get the result from the command that they chose.\n",
    "\n",
    "* **Data Visualisation** \n",
    "    * **Description:** The data needs to be displayed in a way that people can understand it.\n",
    "    * **Input:** The user will choose how they want to display it depending on the category (e.g. Airplane companies in a Matplotlib chart).\n",
    "    * **Output:** The user will be able to see the results in a way that they can see the data.\n",
    "\n",
    "* **Data Reporting** \n",
    "    * **Description:** The data needs to have an output.\n",
    "    * **Input:** The user will be able to download it as a .csv file.\n",
    "    * **Output:** The user will be able to read the results that they have.\n"
   ]
  },
  {
   "cell_type": "markdown",
   "metadata": {},
   "source": [
    "### Use Cases"
   ]
  },
  {
   "cell_type": "markdown",
   "metadata": {},
   "source": [
    "#### Data Loading"
   ]
  },
  {
   "cell_type": "markdown",
   "metadata": {},
   "source": [
    "**Actor:** User\\\n",
    "**Goal:** To be able to load the dataset.\\\n",
    "**Preconditions:** The dataset is in a .csv file.\\\n",
    "**Main Flow:**<ol>\n",
    "  <li>User puts the dataset into the right folder.</li>\n",
    "  <li>They open the file.</li>\n",
    "  <li>The dataset will load.</ol>\n",
    "  \n",
    "**Postconditions:** The data is ready to be viewed for analysis"
   ]
  },
  {
   "cell_type": "markdown",
   "metadata": {},
   "source": [
    "#### Data Cleaning"
   ]
  },
  {
   "cell_type": "markdown",
   "metadata": {},
   "source": [
    "**Actor:** User\\\n",
    "**Goal:** To be able to filter the data.\\\n",
    "**Preconditions:** All the categories are filterable.\\\n",
    "**Main Flow:**<ol>\n",
    "  <li>User accesses the data.</li>\n",
    "  <li>The data is filterable.</li>\n",
    "  <li>The user will see the filtered data.</ol>\n",
    "  \n",
    "**Postconditions:** The data can be seen as filterable."
   ]
  },
  {
   "cell_type": "markdown",
   "metadata": {},
   "source": [
    "#### Data Analysis"
   ]
  },
  {
   "cell_type": "markdown",
   "metadata": {},
   "source": [
    "**Actor:** User\\\n",
    "**Goal:** To be able to analyse the data.\\\n",
    "**Preconditions:** The data will need to have statistics (like facts or numbers).\\\n",
    "**Main Flow:**<ol>\n",
    "  <li>User sees the data.</li>\n",
    "  <li>Finds the statistics.</li>\n",
    "  <li>The user will be able to see the statistics to find their result.</ol>\n",
    "  \n",
    "**Postconditions:** The statistics in the data will help them find the results."
   ]
  },
  {
   "cell_type": "markdown",
   "metadata": {},
   "source": [
    "#### Data Visualisation"
   ]
  },
  {
   "cell_type": "markdown",
   "metadata": {},
   "source": [
    "**Actor:** User\\\n",
    "**Goal:** To be able to view the results in a way that suits them.\\\n",
    "**Preconditions:** The results will be viewed in different charts.\\\n",
    "**Main Flow:**<ol>\n",
    "  <li>The user will find the data they want.</li>\n",
    "  <li>The data is will be able to be seen in different charts.</li>\n",
    "  <li>The user will select the chart of their choice and use it.</ol>\n",
    "  \n",
    "**Postconditions:** The data can be seen in a fitting way."
   ]
  },
  {
   "cell_type": "markdown",
   "metadata": {},
   "source": [
    "#### Data Reporting"
   ]
  },
  {
   "cell_type": "markdown",
   "metadata": {},
   "source": [
    "**Actor:** User\\\n",
    "**Goal:** To be able to produce an output.\\\n",
    "**Preconditions:** The filtered data has to be in a .csv file.\\\n",
    "**Main Flow:**<ol>\n",
    "  <li>The user will choose the data they want.</li>\n",
    "  <li>The user download it.</li>\n",
    "  <li>The user can see their data.</ol>\n",
    "  \n",
    "**Postconditions:** The data can be downloaded to another device."
   ]
  },
  {
   "cell_type": "markdown",
   "metadata": {},
   "source": [
    "### Non-Functional Requirements"
   ]
  },
  {
   "cell_type": "markdown",
   "metadata": {},
   "source": [
    "**Usability:** Everyone will be able to use the data results, and it will be very easy to use. The user will be asked which category they want their data, like airlines or flight times. They will then choose what type of chart or graph they want. After, they will be able to get their results.\\\n",
    "**Reliability:** The system will be able to provide the information and it will be accurate as it shows the many categories. This will be able to be seen but not edited unless by the owner (me) so the data will be secure and reliable."
   ]
  },
  {
   "cell_type": "markdown",
   "metadata": {},
   "source": [
    "### Researching and Planning"
   ]
  },
  {
   "cell_type": "markdown",
   "metadata": {},
   "source": [
    "#### Research"
   ]
  },
  {
   "cell_type": "markdown",
   "metadata": {},
   "source": [
    "**Purpose:** To find out why flights were delayed in America during January, 2019. This can be used to predict future flight delays.\\\n",
    "**Missing Data:** This data will be useful as it can be used to help predict future flight delays.\\\n",
    "**Stakeholders:** The flyers will be able to use this information to know when they book their flight which airline will likely be delayed.\\\n",
    "**Uses:** The users will be able to use this data to avoid flights that are the most delayed."
   ]
  },
  {
   "cell_type": "markdown",
   "metadata": {},
   "source": [
    "#### Privacy and Security"
   ]
  }
 ],
 "metadata": {
  "language_info": {
   "name": "python"
  }
 },
 "nbformat": 4,
 "nbformat_minor": 2
}
