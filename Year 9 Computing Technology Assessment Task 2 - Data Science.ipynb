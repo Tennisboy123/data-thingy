{
 "cells": [
  {
   "cell_type": "markdown",
   "metadata": {},
   "source": [
    "# Year 9 Computing Technology Assessment Task 2 - Data Science"
   ]
  },
  {
   "cell_type": "markdown",
   "metadata": {},
   "source": [
    "## By Sebastian Tam - 9CT1B"
   ]
  },
  {
   "cell_type": "markdown",
   "metadata": {},
   "source": [
    "### Identifying and Defining"
   ]
  },
  {
   "cell_type": "markdown",
   "metadata": {},
   "source": [
    "#### Data Scenario"
   ]
  },
  {
   "cell_type": "markdown",
   "metadata": {},
   "source": [
    "**Data:** Flight delays for America in 2019.\\\n",
    "**Goal:** To find which airlines in America were most delayed in 2019.\\\n",
    "**Source:** https://www.kaggle.com/datasets/threnjen/2019-airline-delays-and-cancellations?resource=download&select=full_data_flightdelay.csv\\\n",
    "**Access:** Publicly accessible on Kaggle.\\\n",
    "**Access Method:** .csv"
   ]
  },
  {
   "cell_type": "markdown",
   "metadata": {},
   "source": [
    "### Functional Requirements"
   ]
  },
  {
   "cell_type": "markdown",
   "metadata": {},
   "source": [
    "* **Data Loading** \n",
    "    * **Description:** The data needs to be able to load certain types of data.\n",
    "    * **Input:** The user needs to import the dataset for analysis.\n",
    "    * **Output:** The user will be able to see the results.\n",
    "\n",
    "* **Data Cleaning** \n",
    "    * **Description:** The data needs to be able to be filtered.\n",
    "    * **Input:** The user will be able to see the filtered data.\n",
    "    * **Output:** The user will be able to see the results from the specific catergory that they filtered.\n",
    "\n",
    "* **Data Analysis** \n",
    "    * **Description:** The data needs to have some statistical data.\n",
    "    * **Input:** The user will be able to use different commands like medians.\n",
    "    * **Output:** The user will be able to get the result from the command that they chose.\n",
    "\n",
    "* **Data Visualisation** \n",
    "    * **Description:** The data needs to be displayed in a way that people can understand it.\n",
    "    * **Input:** The user will choose how they want to display it depending on the category (e.g. Airplane companies in a Matplotlib chart).\n",
    "    * **Output:** The user will be able to see the results in a way that they can see the data.\n",
    "\n",
    "* **Data Reporting** \n",
    "    * **Description:** The data needs to have an output.\n",
    "    * **Input:** The user will be able to download it as a .csv file.\n",
    "    * **Output:** The user will be able to read the results that they have.\n"
   ]
  },
  {
   "cell_type": "markdown",
   "metadata": {},
   "source": [
    "### Use Cases"
   ]
  },
  {
   "cell_type": "markdown",
   "metadata": {},
   "source": [
    "**Actor:** Person looking for the results.\\\n",
    "**Goal:** To put the dataset into the system.\\\n",
    "**Preconditions:** The dataset is in a .csv file.\\\n",
    "**Main Flow:**<ol>\n",
    "  <li>User puts the dataset into the right folder.</li>\n",
    "  <li>They open the file.</li>\n",
    "  <li>They can see the results.</ol>\n",
    "  \n",
    "**Postconditions:** The data is ready to be viewed for analysis"
   ]
  },
  {
   "cell_type": "markdown",
   "metadata": {},
   "source": [
    "### Non-Functional Requirements"
   ]
  },
  {
   "cell_type": "markdown",
   "metadata": {},
   "source": [
    "**Usability:** Everyone will be able to use the data results, and it will be very easy to use."
   ]
  }
 ],
 "metadata": {
  "language_info": {
   "name": "python"
  }
 },
 "nbformat": 4,
 "nbformat_minor": 2
}
