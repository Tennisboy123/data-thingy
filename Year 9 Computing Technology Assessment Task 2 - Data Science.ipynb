{
 "cells": [
  {
   "cell_type": "markdown",
   "metadata": {},
   "source": [
    "# Year 9 Computing Technology Assessment Task 2 - Data Science"
   ]
  },
  {
   "cell_type": "markdown",
   "metadata": {},
   "source": [
    "## By Sebastian Tam - 9CT1B"
   ]
  },
  {
   "cell_type": "markdown",
   "metadata": {},
   "source": [
    "### Identifying and Defining"
   ]
  },
  {
   "cell_type": "markdown",
   "metadata": {},
   "source": [
    "#### Data Scenario"
   ]
  },
  {
   "cell_type": "markdown",
   "metadata": {},
   "source": [
    "**Data:** Flight delays for America in 2019.\\\n",
    "**Goal:** To find which airlines in America were most delayed in 2019.\\\n",
    "**Source:** https://www.kaggle.com/datasets/threnjen/2019-airline-delays-and-cancellations?resource=download&select=full_data_flightdelay.csv\\\n",
    "**Access:** Publicly accessible on Kaggle.\\\n",
    "**Access Method:** .csv"
   ]
  },
  {
   "cell_type": "markdown",
   "metadata": {},
   "source": [
    "### Functional Requirements"
   ]
  },
  {
   "cell_type": "markdown",
   "metadata": {},
   "source": [
    "* **Data Loading** (to finish im gonna do later)\n",
    "    * **Description** The data needs to be able to load certain types of data\n",
    "    * **Input**\n"
   ]
  }
 ],
 "metadata": {
  "language_info": {
   "name": "python"
  }
 },
 "nbformat": 4,
 "nbformat_minor": 2
}
